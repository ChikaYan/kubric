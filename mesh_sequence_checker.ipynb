{
 "cells": [
  {
   "cell_type": "code",
   "execution_count": 71,
   "metadata": {},
   "outputs": [],
   "source": [
    "import pickle\n",
    "import imageio\n",
    "import sys\n",
    "import pdb\n",
    "import os\n",
    "import cv2\n",
    "import numpy as np\n",
    "import trimesh\n",
    "\n",
    "pickle_name = '15a3f5f564c538e2baa1282ba5a20d4c'\n",
    "\n",
    "# person1: 15a3f5f564c538e2baa1282ba5a20d4c\n",
    "# person2: ee17fadac2b5dbee58a4583c94cf5c99\n",
    "# person3: 5ae85a3a2ea692c0cc75820731d6ed1e\n",
    "OBJNAME = 'person1'\n",
    "\n",
    "\n",
    "os.makedirs(f'output/{OBJNAME}/LASR/FlowFW/Full-Resolution/{OBJNAME}',exist_ok=True)\n",
    "os.makedirs(f'output/{OBJNAME}/LASR/FlowBW/Full-Resolution/{OBJNAME}',exist_ok=True)\n",
    "os.makedirs(f'output/{OBJNAME}/LASR/Annotations/Full-Resolution/{OBJNAME}',exist_ok=True)\n",
    "os.makedirs(f'output/{OBJNAME}/LASR/JPEGImages/Full-Resolution/{OBJNAME}',exist_ok=True)\n",
    "os.makedirs(f'output/{OBJNAME}/LASR/Meshes/Full-Resolution/{OBJNAME}',exist_ok=True)\n",
    "# os.makedirs(f'output/{OBJNAME}/LASR/FlowFW/Full-Resolution/r{OBJNAME}',exist_ok=True)\n",
    "# os.makedirs(f'output/{OBJNAME}/LASR/FlowBW/Full-Resolution/r{OBJNAME}',exist_ok=True)\n",
    "\n",
    "with open(f'./MeshSeqs/{pickle_name}.pkl', 'rb') as file:\n",
    "    frames_dict = pickle.load(file)\n",
    "\n",
    "\n",
    "for i in range(len(frames_dict)):\n",
    "    imageio.imsave(f'output/{OBJNAME}/LASR/JPEGImages/Full-Resolution/{OBJNAME}/{i:05d}.png',frames_dict[i]['rgb_frame'][...,:-1])\n",
    "    # miss mask\n",
    "    imageio.imsave(f'output/{OBJNAME}/LASR/Annotations/Full-Resolution/{OBJNAME}/{i:05d}.png',frames_dict[i]['rgb_frame'][...,-1] // 2)\n",
    "\n",
    "\n",
    "    # convert connectivity to faces\n",
    "    # faces = []\n",
    "    # for arr in map(lambda x:np.unique(np.concatenate(np.asarray(x))),frames_dict[i]['mesh_connectivity_graph'][0]):\n",
    "    #     if len(arr) != 3:\n",
    "    #         tri = trimesh.geometry.triangulate_quads([arr])\n",
    "    #         faces.append(tri)\n",
    "    #         # pdb.set_trace()\n",
    "    #     else:\n",
    "    #         faces.append([arr])\n",
    "\n",
    "    # faces = np.concatenate(faces)\n",
    "\n",
    "    connectivity_to_vertices = lambda x:np.unique(np.concatenate(np.asarray(x)))\n",
    "    quads = list(map(connectivity_to_vertices, frames_dict[i]['mesh_connectivity_graph'][0]))\n",
    "    faces = trimesh.geometry.triangulate_quads(quads)\n",
    "    \n",
    "    mesh = trimesh.Trimesh(vertices=frames_dict[i]['mesh_coords_3d'][0,...], faces=faces)\n",
    "    trimesh.exchange.export.export_mesh(mesh,f'output/{OBJNAME}/LASR/Meshes/Full-Resolution/{OBJNAME}/{i:05d}.obj')\n",
    "\n",
    "# save gif\n",
    "imageio.mimsave(f'output/{OBJNAME}/{pickle_name}.gif',[frames_dict[i]['rgb_frame'][...,:-1] for i in range(len(frames_dict))])\n",
    "\n",
    "\n",
    "\n",
    "fw = np.array([frames_dict[i]['forward_optical_flow'] for i in range(len(frames_dict))])[:-1,...]\n",
    "bw = np.array([frames_dict[i]['backward_optical_flow'] for i in range(len(frames_dict))])[1:,...]\n",
    "\n",
    "\n",
    "# write optical flow and occlusion map in LASR format\n",
    "def write_pfm(path, image, scale=1):\n",
    "    \"\"\"Write pfm file.\n",
    "\n",
    "    Args:\n",
    "        path (str): pathto file\n",
    "        image (array): data\n",
    "        scale (int, optional): Scale. Defaults to 1.\n",
    "    \"\"\"\n",
    "\n",
    "    with open(path, \"wb\") as file:\n",
    "        color = None\n",
    "\n",
    "        if image.dtype.name != \"float32\":\n",
    "            raise Exception(\"Image dtype must be float32.\")\n",
    "\n",
    "        image = np.flipud(image)\n",
    "\n",
    "        if len(image.shape) == 3 and image.shape[2] == 3:  # color image\n",
    "            color = True\n",
    "        elif (\n",
    "            len(image.shape) == 2 or len(image.shape) == 3 and image.shape[2] == 1\n",
    "        ):  # greyscale\n",
    "            color = False\n",
    "        else:\n",
    "            raise Exception(\"Image must have H x W x 3, H x W x 1 or H x W dimensions.\")\n",
    "\n",
    "        file.write(\"PF\\n\".encode() if color else \"Pf\\n\".encode())\n",
    "        file.write(\"%d %d\\n\".encode() % (image.shape[1], image.shape[0]))\n",
    "\n",
    "        endian = image.dtype.byteorder\n",
    "\n",
    "        if endian == \"<\" or endian == \"=\" and sys.byteorder == \"little\":\n",
    "            scale = -scale\n",
    "\n",
    "        file.write(\"%f\\n\".encode() % scale)\n",
    "\n",
    "        image.tofile(file)\n",
    "\n",
    "if 'no-flo' not in OBJNAME:\n",
    "\n",
    "    for i in range(len(fw)):\n",
    "        f = fw[i,...]\n",
    "        ones = np.ones_like(f[...,:1])  \n",
    "        f = np.concatenate([f[...,1:], f[...,:1], ones],-1)\n",
    "        b = np.concatenate([-bw[i,...,1:],-bw[i,...,:1], ones],-1)\n",
    "\n",
    "        f = np.flip(f,0)\n",
    "        b = np.flip(b,0)\n",
    "        \n",
    "        write_pfm(f'output/{OBJNAME}/LASR/FlowFW/Full-Resolution/{OBJNAME}/flo-{i:05d}.pfm',f)\n",
    "        write_pfm(f'output/{OBJNAME}/LASR/FlowBW/Full-Resolution/{OBJNAME}/flo-{i+1:05d}.pfm',b)\n",
    "        write_pfm(f'output/{OBJNAME}/LASR/FlowFW/Full-Resolution/{OBJNAME}/occ-{i:05d}.pfm',np.ones_like(f[...,0]))\n",
    "        write_pfm(f'output/{OBJNAME}/LASR/FlowBW/Full-Resolution/{OBJNAME}/occ-{i+1:05d}.pfm',np.ones_like(b[...,0]))\n"
   ]
  },
  {
   "cell_type": "code",
   "execution_count": 3,
   "metadata": {},
   "outputs": [
    {
     "name": "stdout",
     "output_type": "stream",
     "text": [
      "rgb_frame\n",
      "model_names\n",
      "animation_names\n",
      "keypoint_names\n",
      "poses_3d\n",
      "poses_2d\n",
      "bounding_boxes_2d\n",
      "camera_intrinsics\n",
      "camera_extrinsics\n",
      "focal_lens_mm\n",
      "mesh_coords_3d\n",
      "num_vertices\n",
      "mesh_connectivity_graph\n",
      "mesh_normals\n",
      "backward_optical_flow\n",
      "forward_optical_flow\n"
     ]
    }
   ],
   "source": [
    "for k in frames_dict[0]:\n",
    "    print(k)"
   ]
  },
  {
   "cell_type": "code",
   "execution_count": 62,
   "metadata": {},
   "outputs": [],
   "source": [
    "faces = []\n",
    "for arr in map(lambda x:np.unique(np.concatenate(np.asarray(x))),frames_dict[0]['mesh_connectivity_graph'][0]):\n",
    "    if len(arr) != 3:\n",
    "        tri = trimesh.geometry.triangulate_quads([arr])\n",
    "        faces.append(tri)\n",
    "        # pdb.set_trace()\n",
    "    else:\n",
    "        faces.append([arr])\n",
    "\n",
    "faces = np.concatenate(faces)"
   ]
  },
  {
   "cell_type": "code",
   "execution_count": 70,
   "metadata": {},
   "outputs": [
    {
     "data": {
      "text/plain": [
       "(8404, 3)"
      ]
     },
     "execution_count": 70,
     "metadata": {},
     "output_type": "execute_result"
    }
   ],
   "source": [
    "trimesh.geometry.triangulate_quads(list(map(lambda x:np.unique(np.concatenate(np.asarray(x))),frames_dict[0]['mesh_connectivity_graph'][0])))"
   ]
  },
  {
   "cell_type": "code",
   "execution_count": 63,
   "metadata": {},
   "outputs": [
    {
     "data": {
      "text/plain": [
       "(7040, 3)"
      ]
     },
     "execution_count": 63,
     "metadata": {},
     "output_type": "execute_result"
    }
   ],
   "source": [
    "faces.shape"
   ]
  },
  {
   "cell_type": "code",
   "execution_count": 12,
   "metadata": {},
   "outputs": [
    {
     "data": {
      "text/plain": [
       "array([3534])"
      ]
     },
     "execution_count": 12,
     "metadata": {},
     "output_type": "execute_result"
    }
   ],
   "source": [
    "frames_dict[0]['num_vertices']"
   ]
  },
  {
   "cell_type": "code",
   "execution_count": 32,
   "metadata": {},
   "outputs": [],
   "source": [
    "import pickle\n",
    "import imageio\n",
    "import sys\n",
    "import pdb\n",
    "import os\n",
    "import cv2\n",
    "import numpy as np\n",
    "import trimesh\n",
    "import glob\n",
    "\n",
    "os.makedirs(f'./MeshSeqs/preview/',exist_ok=True)\n",
    "\n",
    "for filename in list(glob.glob('./MeshSeqs/*.pkl')):\n",
    "    with open(filename, 'rb') as f:\n",
    "        frames_dict = pickle.load(f)\n",
    "    \n",
    "    pickle_name = filename.split('/')[-1]\n",
    "    imageio.mimsave(f'./MeshSeqs/preview/{pickle_name}.gif',[frames_dict[i]['rgb_frame'][...,:-1] for i in range(len(frames_dict))])\n",
    "\n"
   ]
  },
  {
   "cell_type": "code",
   "execution_count": 31,
   "metadata": {},
   "outputs": [
    {
     "data": {
      "text/plain": [
       "['.', 'MeshSeqs', '10885fd4bb07292e866af001f841aa24.pkl']"
      ]
     },
     "execution_count": 31,
     "metadata": {},
     "output_type": "execute_result"
    }
   ],
   "source": [
    "filename.split('/')"
   ]
  },
  {
   "cell_type": "code",
   "execution_count": 5,
   "metadata": {},
   "outputs": [
    {
     "data": {
      "text/plain": [
       "<trimesh.Trimesh(vertices.shape=(3204, 3), faces.shape=(0, 3))>"
      ]
     },
     "execution_count": 5,
     "metadata": {},
     "output_type": "execute_result"
    }
   ],
   "source": [
    "mesh"
   ]
  },
  {
   "cell_type": "code",
   "execution_count": 11,
   "metadata": {},
   "outputs": [
    {
     "data": {
      "text/plain": [
       "128"
      ]
     },
     "execution_count": 11,
     "metadata": {},
     "output_type": "execute_result"
    }
   ],
   "source": [
    "cv2.imread('output/airplane/LASR/Annotations/Full-Resolution/airplane/00000.png').max()\n",
    "# cv2.imread(f'output/{OBJNAME}/LASR/JPEGImages/Full-Resolution/{OBJNAME}/{i:05d}.png')\n"
   ]
  }
 ],
 "metadata": {
  "interpreter": {
   "hash": "31f2aee4e71d21fbe5cf8b01ff0e069b9275f58929596ceb00d14d90e3e16cd6"
  },
  "kernelspec": {
   "display_name": "Python 3.8.10 64-bit",
   "language": "python",
   "name": "python3"
  },
  "language_info": {
   "codemirror_mode": {
    "name": "ipython",
    "version": 3
   },
   "file_extension": ".py",
   "mimetype": "text/x-python",
   "name": "python",
   "nbconvert_exporter": "python",
   "pygments_lexer": "ipython3",
   "version": "3.8.10"
  },
  "orig_nbformat": 4
 },
 "nbformat": 4,
 "nbformat_minor": 2
}
